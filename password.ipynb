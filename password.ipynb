{
  "cells": [
    {
      "cell_type": "markdown",
      "metadata": {
        "id": "view-in-github",
        "colab_type": "text"
      },
      "source": [
        "<a href=\"https://colab.research.google.com/github/Mrdineshreddy/Dinesh-reddy/blob/main/password.ipynb\" target=\"_parent\"><img src=\"https://colab.research.google.com/assets/colab-badge.svg\" alt=\"Open In Colab\"/></a>"
      ]
    },
    {
      "cell_type": "code",
      "execution_count": 4,
      "metadata": {
        "id": "bY4de6n62QtE",
        "colab": {
          "base_uri": "https://localhost:8080/"
        },
        "outputId": "af3b03b9-bc31-4017-c28f-07ac1026d335"
      },
      "outputs": [
        {
          "output_type": "stream",
          "name": "stdout",
          "text": [
            "=== Strong Password Generator ===\n",
            "Enter desired password length : 13456\n",
            "Include uppercase letters? (y/n): n\n",
            "Include lowercase letters? (y/n): n\n",
            "Include digits? (y/n): n\n",
            "Include special characters? (y/n): n\n",
            "\n",
            "Error: At least one character type must be selected.\n"
          ]
        }
      ],
      "source": [
        "import random\n",
        "import string\n",
        "\n",
        "def generate_password(length=12, use_upper=True, use_lower=True, use_digits=True, use_special=True):\n",
        "    # Validate character type selection\n",
        "    if not (use_upper or use_lower or use_digits or use_special):\n",
        "        return \"Error: At least one character type must be selected.\"\n",
        "\n",
        "    # Enforce a minimum length for better security\n",
        "    if length < 6:\n",
        "        return \"Error: Password length should be at least 6 characters.\"\n",
        "\n",
        "    character_pool = ''\n",
        "    if use_upper:\n",
        "        character_pool += string.ascii_uppercase\n",
        "    if use_lower:\n",
        "        character_pool += string.ascii_lowercase\n",
        "    if use_digits:\n",
        "        character_pool += string.digits\n",
        "    if use_special:\n",
        "        character_pool += string.punctuation\n",
        "\n",
        "    password = ''.join(random.choice(character_pool) for _ in range(length))\n",
        "    return password\n",
        "\n",
        "def main():\n",
        "    print(\"=== Strong Password Generator ===\")\n",
        "    try:\n",
        "        length = int(input(\"Enter desired password length : \"))\n",
        "        use_upper = input(\"Include uppercase letters? (y/n): \").lower() == 'y'\n",
        "        use_lower = input(\"Include lowercase letters? (y/n): \").lower() == 'y'\n",
        "        use_digits = input(\"Include digits? (y/n): \").lower() == 'y'\n",
        "        use_special = input(\"Include special characters? (y/n): \").lower() == 'y'\n",
        "\n",
        "        result = generate_password(length, use_upper, use_lower, use_digits, use_special)\n",
        "\n",
        "        if result.startswith(\"Error:\"):\n",
        "            print(f\"\\n{result}\")\n",
        "        else:\n",
        "            print(f\"\\nGenerated Password: {result}\")\n",
        "\n",
        "    except ValueError:\n",
        "        print(\"Invalid input. Please enter a number for the length.\")\n",
        "\n",
        "if __name__ == \"__main__\":\n",
        "    main()\n"
      ]
    },
    {
      "cell_type": "code",
      "source": [],
      "metadata": {
        "id": "aE-be2_Y3k98"
      },
      "execution_count": null,
      "outputs": []
    }
  ],
  "metadata": {
    "colab": {
      "provenance": [],
      "authorship_tag": "ABX9TyNaXSyULnxpLzuoYZtOTwfz",
      "include_colab_link": true
    },
    "kernelspec": {
      "display_name": "Python 3",
      "name": "python3"
    },
    "language_info": {
      "name": "python"
    }
  },
  "nbformat": 4,
  "nbformat_minor": 0
}