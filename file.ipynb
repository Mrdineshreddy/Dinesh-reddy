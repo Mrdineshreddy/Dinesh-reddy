{
  "nbformat": 4,
  "nbformat_minor": 0,
  "metadata": {
    "colab": {
      "provenance": [],
      "authorship_tag": "ABX9TyMOmZvfSCGJk0qXFK+lArRq",
      "include_colab_link": true
    },
    "kernelspec": {
      "name": "python3",
      "display_name": "Python 3"
    },
    "language_info": {
      "name": "python"
    }
  },
  "cells": [
    {
      "cell_type": "markdown",
      "metadata": {
        "id": "view-in-github",
        "colab_type": "text"
      },
      "source": [
        "<a href=\"https://colab.research.google.com/github/Mrdineshreddy/Dinesh-reddy/blob/main/file.ipynb\" target=\"_parent\"><img src=\"https://colab.research.google.com/assets/colab-badge.svg\" alt=\"Open In Colab\"/></a>"
      ]
    },
    {
      "cell_type": "code",
      "execution_count": null,
      "metadata": {
        "colab": {
          "base_uri": "https://localhost:8080/"
        },
        "id": "pXPStHxvuvn0",
        "outputId": "e81912ab-6578-4f3b-9699-c19bf91f0523"
      },
      "outputs": [
        {
          "output_type": "stream",
          "name": "stdout",
          "text": [
            "Requirement already satisfied: cryptography in /usr/local/lib/python3.11/dist-packages (43.0.3)\n",
            "Requirement already satisfied: cffi>=1.12 in /usr/local/lib/python3.11/dist-packages (from cryptography) (1.17.1)\n",
            "Requirement already satisfied: pycparser in /usr/local/lib/python3.11/dist-packages (from cffi>=1.12->cryptography) (2.22)\n"
          ]
        }
      ],
      "source": [
        "pip install cryptography\n"
      ]
    },
    {
      "cell_type": "code",
      "source": [
        "import os\n",
        "from cryptography.fernet import Fernet\n",
        "\n",
        "# Function to generate and save key\n",
        "def generate_key(key_file='secret.key'):\n",
        "    key = Fernet.generate_key()\n",
        "    with open(key_file, 'wb') as f:\n",
        "        f.write(key)\n",
        "    print(f\"[+] Key generated and saved to {key_file}\")\n",
        "\n",
        "# Function to load existing key\n",
        "def load_key(key_file='secret.key'):\n",
        "    try:\n",
        "        with open(key_file, 'rb') as f:\n",
        "            return f.read()\n",
        "    except FileNotFoundError:\n",
        "        print(\"[-] Key file not found. Generate a new key first.\")\n",
        "        return None\n",
        "\n",
        "# Function to encrypt a file\n",
        "def encrypt_file(file_path, key):\n",
        "    fernet = Fernet(key)\n",
        "    try:\n",
        "        with open(file_path, 'rb') as f:\n",
        "            data = f.read()\n",
        "\n",
        "        encrypted = fernet.encrypt(data)\n",
        "\n",
        "        with open(file_path + '.enc', 'wb') as f:\n",
        "            f.write(encrypted)\n",
        "\n",
        "        print(f\"[+] File encrypted successfully: {file_path}.enc\")\n",
        "    except Exception as e:\n",
        "        print(f\"[-] Error encrypting file: {e}\")\n",
        "\n",
        "# Function to decrypt a file\n",
        "def decrypt_file(file_path, key):\n",
        "    fernet = Fernet(key)\n",
        "    try:\n",
        "        with open(file_path, 'rb') as f:\n",
        "            encrypted_data = f.read()\n",
        "\n",
        "        decrypted = fernet.decrypt(encrypted_data)\n",
        "\n",
        "        original_path = file_path.replace('.enc', '')\n",
        "        with open(original_path, 'wb') as f:\n",
        "            f.write(decrypted)\n",
        "\n",
        "        print(f\"[+] File decrypted successfully: {original_path}\")\n",
        "    except Exception as e:\n",
        "        print(f\"[-] Error decrypting file: {e}\")\n",
        "\n",
        "# CLI Menu\n",
        "def main():\n",
        "    print(\"\\n=== File Encryption/Decryption Tool ===\")\n",
        "    print(\"1. Generate Key\")\n",
        "    print(\"2. Encrypt File\")\n",
        "    print(\"3. Decrypt File\")\n",
        "    print(\"4. Exit\")\n",
        "\n",
        "    while True:\n",
        "        choice = input(\"\\nEnter choice (1-4): \")\n",
        "\n",
        "        if choice == '1':\n",
        "            generate_key()\n",
        "        elif choice == '2':\n",
        "            path = input(\"Enter file path to encrypt: \")\n",
        "            key = load_key()\n",
        "            if key:\n",
        "                encrypt_file(path, key)\n",
        "        elif choice == '3':\n",
        "            path = input(\"Enter encrypted file path (.enc): \")\n",
        "            key = load_key()\n",
        "            if key:\n",
        "                decrypt_file(path, key)\n",
        "        elif choice == '4':\n",
        "            print(\"Exiting...\")\n",
        "            break\n",
        "        else:\n",
        "            print(\"Invalid choice. Try again.\")\n",
        "\n",
        "if __name__ == \"__main__\":\n",
        "    main()\n"
      ],
      "metadata": {
        "colab": {
          "base_uri": "https://localhost:8080/"
        },
        "id": "9AAC0OD8u3UQ",
        "outputId": "4f629d08-12ee-42c7-89bb-35e2a6a93062"
      },
      "execution_count": null,
      "outputs": [
        {
          "metadata": {
            "tags": null
          },
          "name": "stdout",
          "output_type": "stream",
          "text": [
            "\n",
            "=== File Encryption/Decryption Tool ===\n",
            "1. Generate Key\n",
            "2. Encrypt File\n",
            "3. Decrypt File\n",
            "4. Exit\n"
          ]
        }
      ]
    }
  ]
}